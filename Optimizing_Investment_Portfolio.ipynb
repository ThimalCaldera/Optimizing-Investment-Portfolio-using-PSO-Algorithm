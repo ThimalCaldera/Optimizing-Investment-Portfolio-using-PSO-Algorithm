{
 "cells": [
  {
   "cell_type": "code",
   "execution_count": 3,
   "id": "b1c65483",
   "metadata": {},
   "outputs": [],
   "source": [
    "import numpy as np\n",
    "import pandas as pd\n",
    "import matplotlib.pyplot as plt"
   ]
  },
  {
   "cell_type": "code",
   "execution_count": 4,
   "id": "573cd714",
   "metadata": {},
   "outputs": [],
   "source": [
    "def generate_synthetic_data(num_assets, num_periods, mean_returns):\n",
    "    np.random.seed(42)\n",
    "    returns = np.random.multivariate_normal(mean_returns, cov_matrix, size=num_periods)\n",
    "    return pd.DataFrame(returns, columns=[f'Asset_{i}' for i in range(num_assets)])\n"
   ]
  },
  {
   "cell_type": "code",
   "execution_count": 5,
   "id": "d1cbc4d6",
   "metadata": {},
   "outputs": [
    {
     "name": "stderr",
     "output_type": "stream",
     "text": [
      "C:\\Users\\Thimal Caldera\\AppData\\Local\\Temp\\ipykernel_2876\\4095292949.py:3: RuntimeWarning: covariance is not symmetric positive-semidefinite.\n",
      "  returns = np.random.multivariate_normal(mean_returns, cov_matrix, size=num_periods)\n"
     ]
    },
    {
     "data": {
      "text/html": [
       "<div>\n",
       "<style scoped>\n",
       "    .dataframe tbody tr th:only-of-type {\n",
       "        vertical-align: middle;\n",
       "    }\n",
       "\n",
       "    .dataframe tbody tr th {\n",
       "        vertical-align: top;\n",
       "    }\n",
       "\n",
       "    .dataframe thead th {\n",
       "        text-align: right;\n",
       "    }\n",
       "</style>\n",
       "<table border=\"1\" class=\"dataframe\">\n",
       "  <thead>\n",
       "    <tr style=\"text-align: right;\">\n",
       "      <th></th>\n",
       "      <th>Asset_0</th>\n",
       "      <th>Asset_1</th>\n",
       "      <th>Asset_2</th>\n",
       "      <th>Asset_3</th>\n",
       "    </tr>\n",
       "  </thead>\n",
       "  <tbody>\n",
       "    <tr>\n",
       "      <th>0</th>\n",
       "      <td>-0.001990</td>\n",
       "      <td>-0.000584</td>\n",
       "      <td>-0.006378</td>\n",
       "      <td>-0.013622</td>\n",
       "    </tr>\n",
       "    <tr>\n",
       "      <th>1</th>\n",
       "      <td>0.016681</td>\n",
       "      <td>0.014595</td>\n",
       "      <td>-0.007762</td>\n",
       "      <td>-0.005509</td>\n",
       "    </tr>\n",
       "    <tr>\n",
       "      <th>2</th>\n",
       "      <td>0.008063</td>\n",
       "      <td>-0.000407</td>\n",
       "      <td>0.009261</td>\n",
       "      <td>0.015490</td>\n",
       "    </tr>\n",
       "    <tr>\n",
       "      <th>3</th>\n",
       "      <td>-0.025916</td>\n",
       "      <td>0.012979</td>\n",
       "      <td>0.027181</td>\n",
       "      <td>-0.006691</td>\n",
       "    </tr>\n",
       "    <tr>\n",
       "      <th>4</th>\n",
       "      <td>0.012332</td>\n",
       "      <td>0.007419</td>\n",
       "      <td>0.019848</td>\n",
       "      <td>0.026605</td>\n",
       "    </tr>\n",
       "    <tr>\n",
       "      <th>...</th>\n",
       "      <td>...</td>\n",
       "      <td>...</td>\n",
       "      <td>...</td>\n",
       "      <td>...</td>\n",
       "    </tr>\n",
       "    <tr>\n",
       "      <th>95</th>\n",
       "      <td>-0.003066</td>\n",
       "      <td>0.009004</td>\n",
       "      <td>0.035958</td>\n",
       "      <td>0.022261</td>\n",
       "    </tr>\n",
       "    <tr>\n",
       "      <th>96</th>\n",
       "      <td>0.020161</td>\n",
       "      <td>0.009449</td>\n",
       "      <td>0.009439</td>\n",
       "      <td>0.010429</td>\n",
       "    </tr>\n",
       "    <tr>\n",
       "      <th>97</th>\n",
       "      <td>-0.024911</td>\n",
       "      <td>-0.007733</td>\n",
       "      <td>0.005014</td>\n",
       "      <td>-0.015133</td>\n",
       "    </tr>\n",
       "    <tr>\n",
       "      <th>98</th>\n",
       "      <td>0.041668</td>\n",
       "      <td>0.003206</td>\n",
       "      <td>-0.004550</td>\n",
       "      <td>0.030398</td>\n",
       "    </tr>\n",
       "    <tr>\n",
       "      <th>99</th>\n",
       "      <td>0.038951</td>\n",
       "      <td>0.005517</td>\n",
       "      <td>0.017183</td>\n",
       "      <td>0.037730</td>\n",
       "    </tr>\n",
       "  </tbody>\n",
       "</table>\n",
       "<p>100 rows × 4 columns</p>\n",
       "</div>"
      ],
      "text/plain": [
       "     Asset_0   Asset_1   Asset_2   Asset_3\n",
       "0  -0.001990 -0.000584 -0.006378 -0.013622\n",
       "1   0.016681  0.014595 -0.007762 -0.005509\n",
       "2   0.008063 -0.000407  0.009261  0.015490\n",
       "3  -0.025916  0.012979  0.027181 -0.006691\n",
       "4   0.012332  0.007419  0.019848  0.026605\n",
       "..       ...       ...       ...       ...\n",
       "95 -0.003066  0.009004  0.035958  0.022261\n",
       "96  0.020161  0.009449  0.009439  0.010429\n",
       "97 -0.024911 -0.007733  0.005014 -0.015133\n",
       "98  0.041668  0.003206 -0.004550  0.030398\n",
       "99  0.038951  0.005517  0.017183  0.037730\n",
       "\n",
       "[100 rows x 4 columns]"
      ]
     },
     "execution_count": 5,
     "metadata": {},
     "output_type": "execute_result"
    }
   ],
   "source": [
    "num_assets = 4\n",
    "num_periods = 100\n",
    "mean_returns = [0.001, 0.002, 0.003, 0.001]\n",
    "cov_matrix = np.array([[0.0004, 0.0002, 0.0001, 0.0003],\n",
    "                       [0.0002, 0.0003, 0.00015, 0.0001],\n",
    "                       [0.0001, 0.00015, 0.00025, 0.0002],\n",
    "                       [0.0003, 0.0001, 0.0002, 0.00035]])\n",
    "asset_returns = generate_synthetic_data(num_assets, num_periods, mean_returns)\n",
    "asset_returns"
   ]
  },
  {
   "cell_type": "code",
   "execution_count": 65,
   "id": "108ed4df",
   "metadata": {},
   "outputs": [],
   "source": [
    "class Particle:\n",
    "    def __init__(self, num_assets):\n",
    "        self.weights = np.random.rand(num_assets)\n",
    "        self.weights /= np.sum(self.weights)\n",
    "        self.velocity = np.random.rand(num_assets) - 0.5\n",
    "        self.best_weights = self.weights.copy()\n",
    "        self.best_fitness = float('-inf')\n",
    "        \n",
    "    def update_velocity(self, global_best_weights, w, c1, c2, regularization_strength = 0.1):\n",
    "        inertia = w * self.velocity\n",
    "        cognitive_component = c1 * np.random.rand() * (self.best_weights - self.weights)\n",
    "        social_component = c2 * np.random.rand() * (global_best_weights - self.weights)\n",
    "        regularization = regularization_strength * (np.random.rand(self.weights.shape[0]) - 0.5)\n",
    "        self.velocity = inertia + cognitive_component + social_component\n",
    "        self.update_position()\n",
    "    \n",
    "    def update_position(self):\n",
    "         self.weights += self.velocity\n",
    "         self.weights /= np.sum(self.weights)\n",
    "    "
   ]
  },
  {
   "cell_type": "code",
   "execution_count": 7,
   "id": "2cd3832b",
   "metadata": {},
   "outputs": [],
   "source": [
    "def objective_function(returns, cov_matrix, weights):\n",
    "    portfolio_return = np.dot(returns, weights)\n",
    "    portfolio_volatality = np.sqrt(np.dot(weights.T, np.dot(cov_matrix,weights)))\n",
    "    return -portfolio_return / portfolio_volatality"
   ]
  },
  {
   "cell_type": "code",
   "execution_count": 16,
   "id": "8f681653",
   "metadata": {},
   "outputs": [],
   "source": [
    "def pso_algorithm(returns, cov_matrix, num_particles, max_iterations, w, c1, c2):\n",
    "    num_assets = len(returns.columns)\n",
    "    particles = [Particle(num_assets) for _ in range(num_particles)]\n",
    "    global_best_weights = None\n",
    "    global_best_fitness = float('-inf')\n",
    "    \n",
    "    iteration_numbers = []\n",
    "    best_fitness_values = []\n",
    "    iteration = 0\n",
    "    \n",
    "    for i in range(max_iterations):\n",
    "        iteration += 1\n",
    "        for particle in particles:\n",
    "            fitness = objective_function(returns.values, cov_matrix, particle.weights)\n",
    "            \n",
    "            if max(fitness) > particle.best_fitness:\n",
    "                particle.best_fitness = max(fitness)\n",
    "                particle.best_weights = particle.weights\n",
    "                \n",
    "            if max(fitness) > global_best_fitness:\n",
    "                global_best_fitness = max(fitness)\n",
    "                global_best_weights = particle.weights\n",
    "                \n",
    "        iteration_numbers.append(iteration)\n",
    "        best_fitness_values.append(global_best_fitness)\n",
    "        \n",
    "        for particle in particles:\n",
    "            particle.update_velocity(global_best_weights, w, c1, c2)\n",
    "            \n",
    "    return global_best_weights, best_fitness_values, iteration_numbers\n"
   ]
  },
  {
   "cell_type": "code",
   "execution_count": 69,
   "id": "9b1851b4",
   "metadata": {},
   "outputs": [
    {
     "name": "stdout",
     "output_type": "stream",
     "text": [
      "Optimal Portfoloio Weights:  [ 3.89062749 -1.43493346  4.82365021 -6.27934424]\n",
      "Normalized Optimal Portfolio Weights: [ 3.89062749 -1.43493346  4.82365021 -6.27934424]\n"
     ]
    }
   ],
   "source": [
    "num_particles = 30\n",
    "max_iterations = 1000\n",
    "\n",
    "w = 0.5\n",
    "c1 = 1.5\n",
    "c2 = 1.5\n",
    "\n",
    "optimal_weights,best_fitness_values, iteration_numbers = pso_algorithm(asset_returns, cov_matrix, num_particles, max_iterations, w, c1, c2)\n",
    "\n"
   ]
  },
  {
   "cell_type": "code",
   "execution_count": 70,
   "id": "c55a3c4b",
   "metadata": {},
   "outputs": [
    {
     "name": "stdout",
     "output_type": "stream",
     "text": [
      "Normalized Optimal Portfolio Weights: [0.22323293 0.09300504 0.27676707 0.40699496]\n"
     ]
    }
   ],
   "source": [
    "positive_weights = optimal_weights[optimal_weights > 0]\n",
    "normalized_positive_weights = positive_weights / np.sum(positive_weights)\n",
    "optimal_weights[optimal_weights > 0] = normalized_positive_weights\n",
    "\n",
    "negative_weights = optimal_weights[optimal_weights < 0]\n",
    "optimal_weights[optimal_weights < 0] = negative_weights / np.sum(negative_weights)\n",
    "\n",
    "normalized_weights = optimal_weights / np.sum(optimal_weights)\n",
    "print(\"Normalized Optimal Portfolio Weights:\", normalized_weights)\n"
   ]
  },
  {
   "cell_type": "code",
   "execution_count": 60,
   "id": "9d0201bb",
   "metadata": {},
   "outputs": [
    {
     "name": "stdout",
     "output_type": "stream",
     "text": [
      "[ 0.43216358 -0.20802449 -0.55712876 -0.41654093 -1.19329313  1.25255836\n",
      " -0.76621173 -0.80301889 -0.24828552 -0.39971565  0.6052615  -1.73234839\n",
      " -0.05917378 -0.55806334 -0.94967787 -0.77334715  0.90376222  0.18272581\n",
      " -0.18057699 -0.1167197  -0.12702929 -0.89728018 -0.53449798 -0.9399695\n",
      "  0.20171686 -1.63779369 -0.00469408 -0.10462325  0.32806665 -0.21910631\n",
      "  0.62671035  0.6941476  -0.28866785 -1.16703385 -0.87962165  0.13680538\n",
      "  0.09668033  0.46609123 -0.73495534  1.65573384 -0.83498344  1.00773554\n",
      " -0.6093556  -0.1023156   0.14392624  0.22765926 -0.17584488 -1.24912572\n",
      " -0.10309782 -0.98125309  0.45472366 -1.56995635  1.106765    0.89239626\n",
      " -0.97879406  1.87409483 -0.41861604 -0.79343617  0.05676021 -2.14116251\n",
      " -0.8535675  -1.42497519  1.54242595  1.94517922  1.05546685 -1.42703552\n",
      " -0.42717934 -0.40031607  0.90978831 -0.03355872  0.25082875  1.6245651\n",
      "  0.00998287 -0.53473568  0.90544799 -0.94135335  0.0036579   0.36675559\n",
      "  0.96306934  0.52096312  0.0092905  -1.17577617  0.57185719 -0.0618488\n",
      " -0.95469146 -0.87425668 -0.73687464 -0.80924778  0.66543322 -0.17323364\n",
      "  0.63219256  0.50483607 -0.15235412  1.68238231  0.98826677 -1.29900713\n",
      " -0.77775732  0.6124022  -0.98950927 -1.57136774]\n",
      "1.945179221649574\n"
     ]
    }
   ],
   "source": [
    "parti = Particle(4)\n",
    "portfolio_return = np.dot(asset_returns.values, parti.weights)\n",
    "portfolio_volatality = np.sqrt(np.dot(parti.weights.T, np.dot(cov_matrix,parti.weights)))\n",
    "fit = -portfolio_return / portfolio_volatality\n",
    "print((fit))\n",
    "print(max(fit))"
   ]
  },
  {
   "cell_type": "code",
   "execution_count": 71,
   "id": "0c6f6511",
   "metadata": {},
   "outputs": [
    {
     "data": {
      "image/png": "[encoded data removed]",
      "text/plain": [
       "<Figure size 640x480 with 1 Axes>"
      ]
     },
     "metadata": {},
     "output_type": "display_data"
    }
   ],
   "source": [
    "plt.plot(iteration_numbers, best_fitness_values, label='Best Fitness')\n",
    "plt.title('PSO Optimization: Evolution of Best Fitness over Iterations')\n",
    "plt.xlabel('Iteration')\n",
    "plt.ylabel('Fitness')\n",
    "plt.legend()\n",
    "plt.show()"
   ]
  },
  {
   "cell_type": "code",
   "execution_count": null,
   "id": "65997ff5",
   "metadata": {},
   "outputs": [],
   "source": []
  }
 ],
 "metadata": {
  "kernelspec": {
   "display_name": "Python 3 (ipykernel)",
   "language": "python",
   "name": "python3"
  },
  "language_info": {
   "codemirror_mode": {
    "name": "ipython",
    "version": 3
   },
   "file_extension": ".py",
   "mimetype": "text/x-python",
   "name": "python",
   "nbconvert_exporter": "python",
   "pygments_lexer": "ipython3",
   "version": "3.11.3"
  }
 },
 "nbformat": 4,
 "nbformat_minor": 5
}
